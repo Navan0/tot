{
  "nbformat": 4,
  "nbformat_minor": 0,
  "metadata": {
    "kernelspec": {
      "display_name": "Python 3",
      "language": "python",
      "name": "python3"
    },
    "language_info": {
      "codemirror_mode": {
        "name": "ipython",
        "version": 3
      },
      "file_extension": ".py",
      "mimetype": "text/x-python",
      "name": "python",
      "nbconvert_exporter": "python",
      "pygments_lexer": "ipython3",
      "version": "3.5.2"
    },
    "colab": {
      "name": "LinearRegressionGradientDescent.ipynb",
      "provenance": []
    }
  },
  "cells": [
    {
      "cell_type": "markdown",
      "metadata": {
        "id": "8tE_PPYxcFvF",
        "colab_type": "text"
      },
      "source": [
        "## Linear Regression using Gradient Descent\n",
        "\n",
        "In this tutorial, we will be writing the code from scratch for Linear Regression using the Second Approach that we studied i.e. using Gradient Descent and then we will move on to plotting the \"Best Fit Line\".\n",
        "So, let's get started."
      ]
    },
    {
      "cell_type": "markdown",
      "metadata": {
        "id": "9OY5vjPRcFvJ",
        "colab_type": "text"
      },
      "source": [
        "### Step-1 Import Dependencies\n",
        "\n",
        "Numpy: for numerical calculations\n",
        "\n",
        "Pandas: to load the data and modify it\n",
        "\n",
        "Matplotlib: to plot the data"
      ]
    },
    {
      "cell_type": "code",
      "metadata": {
        "id": "iupSoRzkcFvM",
        "colab_type": "code",
        "colab": {}
      },
      "source": [
        "# Import Dependencies\n",
        "import numpy as np\n",
        "import pandas as pd\n",
        "import matplotlib.pyplot as plt\n",
        "%matplotlib inline"
      ],
      "execution_count": 0,
      "outputs": []
    },
    {
      "cell_type": "markdown",
      "metadata": {
        "id": "uefoMMWYcFvT",
        "colab_type": "text"
      },
      "source": [
        "We discussed in the starting tutorials that a straight line is represented by the equation: \n",
        "##### y = mx + b\n",
        "where,\n",
        "#### m: Slope of the line\n",
        "#### b: bias\n",
        "\n",
        "\n",
        "### Step-2: Load Dataset\n",
        "\n",
        "Let's firstly load the dataset. We would like to see if the dataset is balanced or not, how many elements it has in each column, the min, max and mean values.\n",
        "\n",
        "Here, we will be using the same \"Swedish Insurance Dataset\" for this to make a comparison from the previous code.\n",
        "\n",
        "So, let's get started."
      ]
    },
    {
      "cell_type": "code",
      "metadata": {
        "id": "6ry1SmzIcNTd",
        "colab_type": "code",
        "outputId": "19cb0bc0-b194-4be0-a836-e1d113bb35c5",
        "colab": {
          "resources": {
            "http://localhost:8080/nbextensions/google.colab/files.js": {
              "data": "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",
              "ok": true,
              "headers": [
                [
                  "content-type",
                  "application/javascript"
                ]
              ],
              "status": 200,
              "status_text": ""
            }
          },
          "base_uri": "https://localhost:8080/",
          "height": 111
        }
      },
      "source": [
        "from google.colab import files\n",
        "files.upload()"
      ],
      "execution_count": 0,
      "outputs": [
        {
          "output_type": "display_data",
          "data": {
            "text/html": [
              "\n",
              "     <input type=\"file\" id=\"files-fde12524-c830-4d6a-a5e7-2cef8abb72ef\" name=\"files[]\" multiple disabled />\n",
              "     <output id=\"result-fde12524-c830-4d6a-a5e7-2cef8abb72ef\">\n",
              "      Upload widget is only available when the cell has been executed in the\n",
              "      current browser session. Please rerun this cell to enable.\n",
              "      </output>\n",
              "      <script src=\"/nbextensions/google.colab/files.js\"></script> "
            ],
            "text/plain": [
              "<IPython.core.display.HTML object>"
            ]
          },
          "metadata": {
            "tags": []
          }
        },
        {
          "output_type": "stream",
          "text": [
            "Saving Insurance-dataset.csv to Insurance-dataset.csv\n"
          ],
          "name": "stdout"
        },
        {
          "output_type": "execute_result",
          "data": {
            "text/plain": [
              "{'Insurance-dataset.csv': b'X,Y\\n108,392.5\\n19,46.2\\n13,15.7\\n124,422.2\\n40,119.4\\n57,170.9\\n23,56.9\\n14,77.5\\n45,214\\n10,65.3\\n5,20.9\\n48,248.1\\n11,23.5\\n23,39.6\\n7,48.8\\n2,6.6\\n24,134.9\\n6,50.9\\n3,4.4\\n23,113\\n6,14.8\\n9,48.7\\n9,52.1\\n3,13.2\\n29,103.9\\n7,77.5\\n4,11.8\\n20,98.1\\n7,27.9\\n4,38.1\\n0,0\\n25,69.2\\n6,14.6\\n5,40.3\\n22,161.5\\n11,57.2\\n61,217.6\\n12,58.1\\n4,12.6\\n16,59.6\\n13,89.9\\n60,202.4\\n41,181.3\\n37,152.8\\n55,162.8\\n41,73.4\\n11,21.3\\n27,92.6\\n8,76.1\\n3,39.9\\n17,142.1\\n13,93\\n13,31.9\\n15,32.1\\n8,55.6\\n29,133.3\\n30,194.5\\n24,137.9\\n9,87.4\\n31,209.8\\n14,95.5\\n53,244.6\\n26,187.5\\n'}"
            ]
          },
          "metadata": {
            "tags": []
          },
          "execution_count": 2
        }
      ]
    },
    {
      "cell_type": "code",
      "metadata": {
        "id": "5pVPwS9ucFvU",
        "colab_type": "code",
        "colab": {}
      },
      "source": [
        "# Load the data using Pandas\n",
        "\n",
        "df = pd.read_csv('Insurance-dataset.csv')"
      ],
      "execution_count": 0,
      "outputs": []
    },
    {
      "cell_type": "code",
      "metadata": {
        "id": "5u77FJRUcFvb",
        "colab_type": "code",
        "outputId": "a09f4a9e-0c48-43e8-e088-6ecb4a9e585d",
        "colab": {
          "base_uri": "https://localhost:8080/",
          "height": 119
        }
      },
      "source": [
        "# Let's have a look at the data, what it looks like, how many data points are there in the data.\n",
        "\n",
        "print(df.head())"
      ],
      "execution_count": 0,
      "outputs": [
        {
          "output_type": "stream",
          "text": [
            "     X      Y\n",
            "0  108  392.5\n",
            "1   19   46.2\n",
            "2   13   15.7\n",
            "3  124  422.2\n",
            "4   40  119.4\n"
          ],
          "name": "stdout"
        }
      ]
    },
    {
      "cell_type": "markdown",
      "metadata": {
        "id": "UqN-zvjqcFvi",
        "colab_type": "text"
      },
      "source": [
        "Data is in the form of two columns, X and Y. X is the total number of claims and Y represents the claims in thousands of Swedish Kronor.\n",
        "\n",
        "Now, let's describe our data."
      ]
    },
    {
      "cell_type": "code",
      "metadata": {
        "id": "lSqERy97cFvs",
        "colab_type": "code",
        "colab": {}
      },
      "source": [
        "# Load the data in the form to be input to the function for Best Fit Line\n",
        "\n",
        "X = np.array(df['X'], dtype=np.float64)\n",
        "y = np.array(df['Y'], dtype=np.float64)"
      ],
      "execution_count": 0,
      "outputs": []
    },
    {
      "cell_type": "markdown",
      "metadata": {
        "id": "1StvPQnlcFvx",
        "colab_type": "text"
      },
      "source": [
        "### Step-3: Scatter Plot of Input Data\n",
        "Before going any further, let's first plot our data and see if it's linear or not. Remember, we require linear data to plot a best fit line and neglect the Outliers.\n",
        "\n",
        "So, let's plot the data."
      ]
    },
    {
      "cell_type": "code",
      "metadata": {
        "id": "1LrUEaDEcFvz",
        "colab_type": "code",
        "outputId": "e51bba29-ac22-46a9-f387-77a83461efa4",
        "colab": {
          "base_uri": "https://localhost:8080/",
          "height": 312
        }
      },
      "source": [
        "# Scatter Plot of the Input Data\n",
        "\n",
        "fig,ax = plt.subplots()\n",
        "ax.scatter(X,y)\n",
        "ax.set_xlabel('X')\n",
        "ax.set_ylabel('y')\n",
        "ax.set_title('Input Data Scatter Plot')"
      ],
      "execution_count": 0,
      "outputs": [
        {
          "output_type": "execute_result",
          "data": {
            "text/plain": [
              "Text(0.5, 1.0, 'Input Data Scatter Plot')"
            ]
          },
          "metadata": {
            "tags": []
          },
          "execution_count": 10
        },
        {
          "output_type": "display_data",
          "data": {
            "image/png": "[encoded data removed]",
            "text/plain": [
              "<Figure size 432x288 with 1 Axes>"
            ]
          },
          "metadata": {
            "tags": []
          }
        }
      ]
    },
    {
      "cell_type": "markdown",
      "metadata": {
        "id": "5PfRHvgQcFv7",
        "colab_type": "text"
      },
      "source": [
        "From the above plot, we can see that the data is pretty linear except for 1 or 2 points. But that's ok. We can work with that.\n"
      ]
    },
    {
      "cell_type": "markdown",
      "metadata": {
        "id": "lkEcZ8vqcFv9",
        "colab_type": "text"
      },
      "source": [
        "### Step-4: Cost Function\n",
        "\n",
        "Let's now define the Cost Function for Linear Regression. we can defined the Cost Function as follows:\n",
        "\n",
        "#### Cost Function [J] = (1/2n) * sum((y_hat-y)^2)\n",
        "\n",
        "where\n",
        "#### n: Total number of data points in the Input.\n",
        "#### y_hat: Predicted values of y using value of \"m\" and \"b\" obtained from Gradient Descent.\n",
        "#### y: Input data points with label \"y\"\n",
        "\n",
        "So, let's define this function."
      ]
    },
    {
      "cell_type": "code",
      "metadata": {
        "id": "_yts2CsFcFv_",
        "colab_type": "code",
        "colab": {}
      },
      "source": [
        "# Cost Function\n",
        "# Cost Function [J] = (1/2n) * (sum((y_hat-y)**2))\n",
        "# where,\n",
        "# n: total number of items in a column of dataset. i.e. 63 in this case.\n",
        "# len(X): Taking the length of column X gives us the value of \"n\"0\n",
        "\n",
        "def cost_Function(m,b,X,y):\n",
        "    return sum(((m*X + b) - y)**2)/(2*float(len(X)))\n"
      ],
      "execution_count": 0,
      "outputs": []
    },
    {
      "cell_type": "markdown",
      "metadata": {
        "id": "61N-8bQ4cFwF",
        "colab_type": "text"
      },
      "source": [
        "Now, since we have the function to calculate the cost, the next step is ofcourse to get the values for \"m\" and \"b\". But, here, unlike the previous code, we'll be using Gradient Descent to iteratively go over the values and find the best value for \"m\" and \"b\" to get the \"Best Fit Line\".\n",
        "\n",
        "So, let's get started.\n",
        "\n",
        "What are the equations for Gradient Descent ??\n",
        "\n",
        "Well, we saw in the post that to find the values of \"m\" and \"b\" using Gradient Descent, we first need to find the gradient or the derivative of the cost function w.r.t m and b.\n",
        "\n",
        "So, the equation that we get are:\n",
        "\n",
        "#### dJ/dm = (1/n) * X * ((m*X+b)-y)\n",
        "\n",
        "#### dJ/db = (1/n) * ((m*X+b)-y) * 1\n",
        "\n",
        "After this, we update the values of \"m\" and \"b\" simultaneously. i.e. firstly we get the derivative values and then update \"m\" and \"b\" at once as:\n",
        "\n",
        "#### m = m - alpha*(dJ/dm)\n",
        "\n",
        "#### b = b - alpha*(dJ/db)\n",
        "\n",
        "where,\n",
        "\n",
        "#### alpha: Learning Rate\n",
        "\n",
        "Finding these values is fine. But we are just missing one small part for performing Gradient Descent. We cannot find the perfect value for \"m\" and \"b\" in a single iteration. It is a gradual process. Remember in the plot of Gradient Descent when we try to move down the slope of the Convex Function.\n",
        "\n",
        "To reach the bottom/minima, we will require more than one iteration. Hence, we iterate over the equations defined above multiple times till the error cannot be reduced further.\n",
        "\n",
        "Now, after all these equations, it's time to implement them."
      ]
    },
    {
      "cell_type": "code",
      "metadata": {
        "id": "Xc_7v0aecFwI",
        "colab_type": "code",
        "colab": {}
      },
      "source": [
        "# Gradient Descent\n",
        "# X,y: Input Data Points\n",
        "# m,b: Initial Slope and Bias\n",
        "# alpha: Learning Rate\n",
        "# iters: Number of Iterations for which we need to run Gradient Descent.\n",
        "\n",
        "def gradientDescent(X,y,m,b,alpha,iters):\n",
        "    # Initialize Values of Gradients\n",
        "    gradient_m = 0\n",
        "    gradient_b = 0\n",
        "    # n: Number of items in a row\n",
        "    n = float(len(X))\n",
        "    a = 0\n",
        "    # Array to store values of error for analysis\n",
        "    hist = []\n",
        "    # Perform Gradient Descent for iters\n",
        "    for _ in range(iters):\n",
        "        # Perform Gradient Descent\n",
        "        for i in range(len(X)):\n",
        "            gradient_m = (1/n) * X[i] * ((m*X[i] + b) - y[i])\n",
        "            gradient_b = (1/n) * ((m*X[i] + b) - y[i])\n",
        "        m = m - (alpha*gradient_m)\n",
        "        b = b - (alpha*gradient_b)\n",
        "        # Calculate the change in error with new values of \"m\" and \"b\"\n",
        "        a = cost_Function(m,b,X,y)\n",
        "        hist.append(a)\n",
        "    return [m,b,hist]"
      ],
      "execution_count": 0,
      "outputs": []
    },
    {
      "cell_type": "markdown",
      "metadata": {
        "id": "1aZ05VS_cFwQ",
        "colab_type": "text"
      },
      "source": [
        "So, now that we have performed the Gradient Descent, let's now run the code and provide initial values."
      ]
    },
    {
      "cell_type": "code",
      "metadata": {
        "id": "yVTIPc7pcFwS",
        "colab_type": "code",
        "outputId": "a415a644-7e24-49b5-984f-64d6f23531fb",
        "colab": {
          "base_uri": "https://localhost:8080/",
          "height": 34
        }
      },
      "source": [
        "# Learning Rate\n",
        "lr = 0.0001\n",
        "\n",
        "# Initial Values of \"m\" and \"b\"\n",
        "initial_m = 0\n",
        "initial_b = 0\n",
        "\n",
        "# Number of Iterations\n",
        "iterations = 1000\n",
        "\n",
        "print(\"Starting gradient descent...\")"
      ],
      "execution_count": 0,
      "outputs": [
        {
          "output_type": "stream",
          "text": [
            "Starting gradient descent...\n"
          ],
          "name": "stdout"
        }
      ]
    },
    {
      "cell_type": "code",
      "metadata": {
        "id": "a8v301OlcFwY",
        "colab_type": "code",
        "outputId": "608e9aaf-9e67-4e3a-b5ba-b367aee0c28a",
        "colab": {
          "base_uri": "https://localhost:8080/",
          "height": 34
        }
      },
      "source": [
        "# Check error with initial Values of m and b\n",
        "\n",
        "print(\"Initial Error at m = {0} and b = {1} is error = {2}\".format(initial_m, initial_b, cost_Function(initial_m, initial_b, X, y)))"
      ],
      "execution_count": 0,
      "outputs": [
        {
          "output_type": "stream",
          "text": [
            "Initial Error at m = 0 and b = 0 is error = 8572.899206349208\n"
          ],
          "name": "stdout"
        }
      ]
    },
    {
      "cell_type": "code",
      "metadata": {
        "id": "VLlyEFsGcFwe",
        "colab_type": "code",
        "colab": {}
      },
      "source": [
        "# Run Gradient Descent to get new values for \"m\" and \"b\"\n",
        "\n",
        "[m,b,hist] = gradientDescent(X, y, initial_m, initial_b, lr, iterations)"
      ],
      "execution_count": 0,
      "outputs": []
    },
    {
      "cell_type": "code",
      "metadata": {
        "id": "OFlJFgKlcFwj",
        "colab_type": "code",
        "outputId": "8d16f69b-e084-43ad-bb48-7e531713f0cb",
        "colab": {
          "base_uri": "https://localhost:8080/",
          "height": 34
        }
      },
      "source": [
        "# New Values of \"m\" and \"b\" after Gradient Descent\n",
        "\n",
        "print('Values obtained after {0} iterations are m = {1} and b = {2}'.format(iterations,m,b))"
      ],
      "execution_count": 0,
      "outputs": [
        {
          "output_type": "stream",
          "text": [
            "Values obtained after 1000 iterations are m = 4.743684676449634 and b = 0.18244941063267792\n"
          ],
          "name": "stdout"
        }
      ]
    },
    {
      "cell_type": "markdown",
      "metadata": {
        "id": "YQg4MiZGcFwo",
        "colab_type": "text"
      },
      "source": [
        "Now that we have obtained the new values for \"m\" and \"b\", it's time to plot the \"Best Fit Line\" and see how well it fits the data. To do that, we first need to get the values for y_hat.\n",
        "\n",
        "#### y_hat = m*X + b\n",
        "\n",
        "where \"m\" and \"b\" are the new values obtained after performing Gradient Descent."
      ]
    },
    {
      "cell_type": "code",
      "metadata": {
        "id": "QHMrPGj9cFwp",
        "colab_type": "code",
        "outputId": "ced7080d-4953-4d56-fb34-2380ec3a54d4",
        "colab": {
          "base_uri": "https://localhost:8080/",
          "height": 289
        }
      },
      "source": [
        "# Calculating y_hat\n",
        "\n",
        "y_hat = (m*X + b)\n",
        "\n",
        "print('y_hat: ',y_hat)"
      ],
      "execution_count": 0,
      "outputs": [
        {
          "output_type": "stream",
          "text": [
            "y_hat:  [5.12500394e+02 9.03124583e+01 6.18503502e+01 5.88399349e+02\n",
            " 1.89929836e+02 2.70572476e+02 1.09287197e+02 6.65940349e+01\n",
            " 2.13648260e+02 4.76192962e+01 2.39008728e+01 2.27879314e+02\n",
            " 5.23629809e+01 1.09287197e+02 3.33882421e+01 9.66981876e+00\n",
            " 1.14030882e+02 2.86445575e+01 1.44135034e+01 1.09287197e+02\n",
            " 2.86445575e+01 4.28756115e+01 4.28756115e+01 1.44135034e+01\n",
            " 1.37749305e+02 3.33882421e+01 1.91571881e+01 9.50561429e+01\n",
            " 3.33882421e+01 1.91571881e+01 1.82449411e-01 1.18774566e+02\n",
            " 2.86445575e+01 2.39008728e+01 1.04543512e+02 5.23629809e+01\n",
            " 2.89547215e+02 5.71066655e+01 1.91571881e+01 7.60814042e+01\n",
            " 6.18503502e+01 2.84803530e+02 1.94673521e+02 1.75698782e+02\n",
            " 2.61085107e+02 1.94673521e+02 5.23629809e+01 1.28261936e+02\n",
            " 3.81319268e+01 1.44135034e+01 8.08250889e+01 6.18503502e+01\n",
            " 6.18503502e+01 7.13377196e+01 3.81319268e+01 1.37749305e+02\n",
            " 1.42492990e+02 1.14030882e+02 4.28756115e+01 1.47236674e+02\n",
            " 6.65940349e+01 2.51597737e+02 1.23518251e+02]\n"
          ],
          "name": "stdout"
        }
      ]
    },
    {
      "cell_type": "code",
      "metadata": {
        "id": "-leAUL2scFwv",
        "colab_type": "code",
        "outputId": "e3841b84-6145-4a91-b026-55ed1c9364d8",
        "colab": {
          "base_uri": "https://localhost:8080/",
          "height": 312
        }
      },
      "source": [
        "# Scatter Plot of the Input Data and Plot for Best Fit Line\n",
        "\n",
        "fig,ax = plt.subplots()\n",
        "ax.scatter(X,y,c='r')\n",
        "ax.plot(X,y_hat,c='y')\n",
        "ax.set_xlabel('X')\n",
        "ax.set_ylabel('y')\n",
        "ax.set_title('Best Fit Line Plot')"
      ],
      "execution_count": 0,
      "outputs": [
        {
          "output_type": "execute_result",
          "data": {
            "text/plain": [
              "Text(0.5, 1.0, 'Best Fit Line Plot')"
            ]
          },
          "metadata": {
            "tags": []
          },
          "execution_count": 14
        },
        {
          "output_type": "display_data",
          "data": {
            "image/png": "[encoded data removed]",
            "text/plain": [
              "<Figure size 432x288 with 1 Axes>"
            ]
          },
          "metadata": {
            "tags": []
          }
        }
      ]
    },
    {
      "cell_type": "markdown",
      "metadata": {
        "id": "y95GRqvGcFw0",
        "colab_type": "text"
      },
      "source": [
        "As we can clearly see that this line passes through most of the data points and is a Best Fit Line. Now, let's do our second test on this. let's take an arbitrary input and see if we are able to get a value for that."
      ]
    },
    {
      "cell_type": "code",
      "metadata": {
        "id": "Gz0DuWNecFw1",
        "colab_type": "code",
        "outputId": "784a8f7a-50b2-4953-9fcf-3ee3de47199b",
        "colab": {
          "base_uri": "https://localhost:8080/",
          "height": 34
        }
      },
      "source": [
        "# Testing using arbitrary Input Value\n",
        "\n",
        "predict_X = 23\n",
        "predict_y = (m*predict_X + b)\n",
        "\n",
        "print('predict_y: ',predict_y)"
      ],
      "execution_count": 0,
      "outputs": [
        {
          "output_type": "stream",
          "text": [
            "predict_y:  109.28719696897426\n"
          ],
          "name": "stdout"
        }
      ]
    },
    {
      "cell_type": "code",
      "metadata": {
        "id": "r0TK7X8KcFw7",
        "colab_type": "code",
        "outputId": "4ec3e173-51db-4fb3-ce2f-f0e29f38eee1",
        "colab": {
          "base_uri": "https://localhost:8080/",
          "height": 312
        }
      },
      "source": [
        "# Scatter Plot, Best Fit Line and Prediction Plot\n",
        "\n",
        "fig,ax = plt.subplots()\n",
        "ax.scatter(X,y)\n",
        "ax.scatter(predict_X,predict_y,c='r',s=100)\n",
        "ax.plot(X,y_hat,c='y')\n",
        "ax.set_xlabel('X')\n",
        "ax.set_ylabel('y')\n",
        "ax.set_title('Prediction Plot')"
      ],
      "execution_count": 0,
      "outputs": [
        {
          "output_type": "execute_result",
          "data": {
            "text/plain": [
              "Text(0.5, 1.0, 'Prediction Plot')"
            ]
          },
          "metadata": {
            "tags": []
          },
          "execution_count": 23
        },
        {
          "output_type": "display_data",
          "data": {
            "image/png": "[encoded data removed]",
            "text/plain": [
              "<Figure size 432x288 with 1 Axes>"
            ]
          },
          "metadata": {
            "tags": []
          }
        }
      ]
    },
    {
      "cell_type": "markdown",
      "metadata": {
        "id": "4BB9PnMIcFxD",
        "colab_type": "text"
      },
      "source": [
        "Well, we can see that the line goes through the point or in other words, point lies on the line and that is what was the aim to get a Best Fit Line.\n",
        "\n",
        "Great work till here. But let's also see how the error goes down !! Remember we used an extra variable and stored the cost_function values into an array. These values show how Gradient Descent moves down reducing the Cost Function.\n",
        "\n",
        "So, let's plot it."
      ]
    },
    {
      "cell_type": "code",
      "metadata": {
        "id": "U1BiSeRZcFxF",
        "colab_type": "code",
        "outputId": "fde7d223-3d31-4f00-d51b-ed66e3ef75a8",
        "colab": {
          "base_uri": "https://localhost:8080/",
          "height": 298
        }
      },
      "source": [
        "# Error Plot\n",
        "\n",
        "fig,ax = plt.subplots()\n",
        "ax.plot(hist)\n",
        "ax.set_title('Cost Function Over Time')"
      ],
      "execution_count": 0,
      "outputs": [
        {
          "output_type": "execute_result",
          "data": {
            "text/plain": [
              "Text(0.5, 1.0, 'Cost Function Over Time')"
            ]
          },
          "metadata": {
            "tags": []
          },
          "execution_count": 24
        },
        {
          "output_type": "display_data",
          "data": {
            "image/png": "[encoded data removed]",
            "text/plain": [
              "<Figure size 432x288 with 1 Axes>"
            ]
          },
          "metadata": {
            "tags": []
          }
        }
      ]
    },
    {
      "cell_type": "markdown",
      "metadata": {
        "id": "ikI4QtC1cFxT",
        "colab_type": "text"
      },
      "source": [
        "As we can see that the Cost Function values decrease over time and near about 700, it starts to get saturated. Hence, even if we run the Gradient Descent Optimizer for near about 700 iterations, we will get the same results."
      ]
    },
    {
      "cell_type": "markdown",
      "metadata": {
        "id": "mULJl3gDcFxV",
        "colab_type": "text"
      },
      "source": [
        "Well, this ends our coding section for this post."
      ]
    }
  ]
}